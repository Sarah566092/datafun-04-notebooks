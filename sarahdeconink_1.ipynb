{
 "cells": [
  {
   "attachments": {},
   "cell_type": "markdown",
   "metadata": {},
   "source": [
    "# Module 4 Project\n",
    "\n",
    "Author: [Sarah Deconink](https://github.com/Sarah566092/)\n",
    "Repository: [datafun-04-notebooks](https://github.com/Sarah566092/datafun-04-notebooks)"
   ]
  },
  {
   "attachments": {},
   "cell_type": "markdown",
   "metadata": {},
   "source": [
    "## Task 1 - Series"
   ]
  },
  {
   "cell_type": "code",
   "execution_count": 25,
   "metadata": {},
   "outputs": [],
   "source": [
    "# import the pandas library\n",
    "import pandas as pd"
   ]
  },
  {
   "cell_type": "code",
   "execution_count": 26,
   "metadata": {},
   "outputs": [
    {
     "name": "stdout",
     "output_type": "stream",
     "text": [
      "The first grade is 88\n",
      "There are 5 grades total.\n",
      "The average test score is 92.2\n",
      "The lowest grade is 88.\n",
      "The highest gradde is 97.\n",
      "The standard deviation of the grades is 3.8340579025361627.\n",
      "An easier way to show descriptive stats on the grades is to call the grades.describe() function:\n"
     ]
    },
    {
     "data": {
      "text/plain": [
       "count     5.000000\n",
       "mean     92.200000\n",
       "std       3.834058\n",
       "min      88.000000\n",
       "25%      89.000000\n",
       "50%      92.000000\n",
       "75%      95.000000\n",
       "max      97.000000\n",
       "dtype: float64"
      ]
     },
     "execution_count": 26,
     "metadata": {},
     "output_type": "execute_result"
    }
   ],
   "source": [
    "grades = pd.Series([88, 97, 92, 95, 89])\n",
    "\n",
    "first_grade = grades[0]\n",
    "print(f\"The first grade is {first_grade}\")\n",
    "\n",
    "count_grades = grades.count()\n",
    "print(f\"There are {count_grades} grades total.\")\n",
    "\n",
    "mean_grades = grades.mean()\n",
    "print(f\"The average test score is {mean_grades}\")\n",
    "\n",
    "min_grade = grades.min()\n",
    "print(f\"The lowest grade is {min_grade}.\")\n",
    "\n",
    "max_grade = grades.max()\n",
    "print(f\"The highest gradde is {max_grade}.\")\n",
    "\n",
    "std_grade = grades.std()\n",
    "print(f\"The standard deviation of the grades is {std_grade}.\")\n",
    "\n",
    "print(\"An easier way to show descriptive stats on the grades is to call the grades.describe() function:\")\n",
    "grades.describe()\n",
    "\n"
   ]
  },
  {
   "attachments": {},
   "cell_type": "markdown",
   "metadata": {},
   "source": [
    "## Task 2 - Series from Dictionary"
   ]
  },
  {
   "cell_type": "code",
   "execution_count": 27,
   "metadata": {},
   "outputs": [
    {
     "data": {
      "text/plain": [
       "Wally     87\n",
       "Eva      100\n",
       "Sam       94\n",
       "dtype: int64"
      ]
     },
     "execution_count": 27,
     "metadata": {},
     "output_type": "execute_result"
    }
   ],
   "source": [
    "# use a dictionary to create a series\n",
    "grades = pd.Series({'Wally':87, 'Eva':100, 'Sam':94})\n",
    "grades"
   ]
  },
  {
   "cell_type": "code",
   "execution_count": 28,
   "metadata": {},
   "outputs": [
    {
     "data": {
      "text/plain": [
       "100"
      ]
     },
     "execution_count": 28,
     "metadata": {},
     "output_type": "execute_result"
    }
   ],
   "source": [
    "# Call for Eva's grade\n",
    "grades['Eva']"
   ]
  },
  {
   "cell_type": "code",
   "execution_count": 29,
   "metadata": {},
   "outputs": [
    {
     "data": {
      "text/plain": [
       "87"
      ]
     },
     "execution_count": 29,
     "metadata": {},
     "output_type": "execute_result"
    }
   ],
   "source": [
    "# Call for Wally's grade\n",
    "grades.Wally"
   ]
  },
  {
   "cell_type": "code",
   "execution_count": 30,
   "metadata": {},
   "outputs": [
    {
     "data": {
      "text/plain": [
       "array([ 87, 100,  94])"
      ]
     },
     "execution_count": 30,
     "metadata": {},
     "output_type": "execute_result"
    }
   ],
   "source": [
    "# Show an array of grade values\n",
    "grades.values"
   ]
  },
  {
   "cell_type": "code",
   "execution_count": 31,
   "metadata": {},
   "outputs": [
    {
     "data": {
      "text/plain": [
       "0    99\n",
       "1    90\n",
       "2    75\n",
       "3    88\n",
       "4    86\n",
       "5    89\n",
       "dtype: int64"
      ]
     },
     "execution_count": 31,
     "metadata": {},
     "output_type": "execute_result"
    }
   ],
   "source": [
    "import numpy as np\n",
    "import pandas as pd\n",
    "\n",
    "# generate random temperatures\n",
    "temps = np.random.randint(60, 101, 6)\n",
    "\n",
    "temperatures = pd.Series(temps)\n",
    "\n",
    "temperatures"
   ]
  },
  {
   "cell_type": "code",
   "execution_count": 32,
   "metadata": {},
   "outputs": [
    {
     "data": {
      "text/plain": [
       "75"
      ]
     },
     "execution_count": 32,
     "metadata": {},
     "output_type": "execute_result"
    }
   ],
   "source": [
    "# Diplay the minimum temp\n",
    "temperatures.min()"
   ]
  },
  {
   "cell_type": "code",
   "execution_count": 33,
   "metadata": {},
   "outputs": [
    {
     "data": {
      "text/plain": [
       "99"
      ]
     },
     "execution_count": 33,
     "metadata": {},
     "output_type": "execute_result"
    }
   ],
   "source": [
    "# Diplay the maximum temp\n",
    "temperatures.max()"
   ]
  },
  {
   "cell_type": "code",
   "execution_count": 34,
   "metadata": {},
   "outputs": [
    {
     "data": {
      "text/plain": [
       "count     6.000000\n",
       "mean     87.833333\n",
       "std       7.730890\n",
       "min      75.000000\n",
       "25%      86.500000\n",
       "50%      88.500000\n",
       "75%      89.750000\n",
       "max      99.000000\n",
       "dtype: float64"
      ]
     },
     "execution_count": 34,
     "metadata": {},
     "output_type": "execute_result"
    }
   ],
   "source": [
    "# Generate descriptive data on the temps\n",
    "temperatures.describe()"
   ]
  }
 ],
 "metadata": {
  "kernelspec": {
   "display_name": ".venv",
   "language": "python",
   "name": "python3"
  },
  "language_info": {
   "codemirror_mode": {
    "name": "ipython",
    "version": 3
   },
   "file_extension": ".py",
   "mimetype": "text/x-python",
   "name": "python",
   "nbconvert_exporter": "python",
   "pygments_lexer": "ipython3",
   "version": "3.11.3"
  },
  "orig_nbformat": 4
 },
 "nbformat": 4,
 "nbformat_minor": 2
}
